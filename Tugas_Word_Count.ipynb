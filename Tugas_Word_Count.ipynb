{
 "cells": [
  {
   "cell_type": "code",
   "execution_count": 19,
   "metadata": {},
   "outputs": [
    {
     "name": "stdout",
     "output_type": "stream",
     "text": [
      "('Barcelona', 2)\n",
      "('berhasil', 1)\n",
      "('merebut', 1)\n",
      "('posisi', 1)\n",
      "('puncak', 1)\n",
      "('klasemen', 1)\n",
      "('La', 1)\n",
      "('Liga', 1)\n",
      "('Spanyol', 1)\n",
      "('seusai', 1)\n",
      "('menang', 1)\n",
      "('4', 1)\n",
      "('2', 3)\n",
      "('atas', 1)\n",
      "('Sevilla', 1)\n",
      "('pada', 3)\n",
      "('pertandingan', 1)\n",
      "('pekan', 1)\n",
      "('kesembilan', 1)\n",
      "('di', 1)\n",
      "('Stadion', 1)\n",
      "('Camp', 1)\n",
      "('Nou,', 1)\n",
      "('Sabtu', 1)\n",
      "('20', 1)\n",
      "('10', 2)\n",
      "('2018', 1)\n",
      "('atau', 1)\n",
      "('Minggu', 1)\n",
      "('dini', 1)\n",
      "('hari', 1)\n",
      "('WIB.', 1)\n",
      "('membuka', 1)\n",
      "('keunggulan', 2)\n",
      "('menit', 3)\n",
      "('ke', 2)\n",
      "('melalui', 1)\n",
      "('gol', 1)\n",
      "('yang', 1)\n",
      "('dicetak', 1)\n",
      "('oleh', 1)\n",
      "('Philippe', 1)\n",
      "('Coutinho.', 1)\n",
      "('Lionel', 1)\n",
      "('Messi', 2)\n",
      "('menggandakan', 1)\n",
      "('Barcelona,', 2)\n",
      "('berselang.', 1)\n",
      "('Namun,', 1)\n",
      "('nahas', 1)\n",
      "('bagi', 1)\n",
      "('karena', 1)\n",
      "('harus', 1)\n",
      "('ditarik', 1)\n",
      "('keluar', 1)\n",
      "('26', 1)\n",
      "('setelah', 1)\n",
      "('mengalami', 1)\n",
      "('cedera.', 1)\n",
      "('Tanpa', 1)\n",
      "('Messi,', 1)\n",
      "('skor', 1)\n",
      "('0', 1)\n",
      "('bertahan', 1)\n",
      "('hingga', 1)\n",
      "('babak', 1)\n",
      "('pertama', 1)\n",
      "('berakhir.', 1)\n"
     ]
    }
   ],
   "source": [
    "paragraf = \"Barcelona berhasil merebut posisi puncak klasemen La Liga Spanyol seusai menang 4-2 atas Sevilla pada pertandingan pekan kesembilan di Stadion Camp Nou, Sabtu (20/10/2018) atau Minggu dini hari WIB. Barcelona membuka keunggulan pada menit ke-2 melalui gol yang dicetak oleh Philippe Coutinho. Lionel Messi menggandakan keunggulan Barcelona, 10 menit berselang.  Namun, nahas bagi Barcelona, karena Messi harus ditarik keluar pada menit ke-26 setelah mengalami cedera. Tanpa Messi, skor 2-0 bertahan hingga babak pertama berakhir.\"\n",
    "paragraf = paragraf.replace(\"/\",\" \")\n",
    "paragraf = paragraf.replace(\"(\",\" \")\n",
    "paragraf = paragraf.replace(\")\",\" \")\n",
    "paragraf = paragraf.replace(\"-\",\" \")\n",
    "\n",
    "word_count = {}\n",
    "for v in list(map(lambda v : (v, 1), paragraf.split())): word_count[v[0]] = word_count.get(v[0], 0) + 1\n",
    "    \n",
    "for v in word_count.items():print(v)"
   ]
  },
  {
   "cell_type": "code",
   "execution_count": null,
   "metadata": {},
   "outputs": [],
   "source": []
  }
 ],
 "metadata": {
  "kernelspec": {
   "display_name": "Python 3",
   "language": "python",
   "name": "python3"
  },
  "language_info": {
   "codemirror_mode": {
    "name": "ipython",
    "version": 3
   },
   "file_extension": ".py",
   "mimetype": "text/x-python",
   "name": "python",
   "nbconvert_exporter": "python",
   "pygments_lexer": "ipython3",
   "version": "3.7.0"
  }
 },
 "nbformat": 4,
 "nbformat_minor": 2
}
