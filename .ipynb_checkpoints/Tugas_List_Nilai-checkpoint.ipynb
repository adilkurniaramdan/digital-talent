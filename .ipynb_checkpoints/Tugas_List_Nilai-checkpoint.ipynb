{
 "cells": [
  {
   "cell_type": "code",
   "execution_count": 18,
   "metadata": {},
   "outputs": [],
   "source": [
    "import random\n",
    "\n",
    "# GENERATE RANDOM\n",
    "nilaiTugas = []\n",
    "for i in range(250):\n",
    "    nilaiTugas.append(random.randrange(1,100,1))"
   ]
  },
  {
   "cell_type": "code",
   "execution_count": 29,
   "metadata": {},
   "outputs": [
    {
     "name": "stdout",
     "output_type": "stream",
     "text": [
      "1.Tampilkan Angka Ganjil dari ke 250 nilai tersebut\n",
      "[7, 33, 99, 57, 29, 35, 33, 13, 61, 9, 61, 35, 87, 31, 43, 87, 23, 59, 49, 13, 51, 33, 3, 67, 69, 99, 71, 17, 53, 25, 43, 41, 27, 17, 95, 91, 33, 95, 31, 67, 21, 47, 89, 37, 57, 39, 9, 41, 55, 83, 89, 93, 13, 97, 3, 23, 79, 97, 5, 7, 93, 95, 89, 43, 21, 59, 39, 65, 43, 9, 23, 21, 67, 63, 81, 73, 15, 73, 61, 13, 49, 11, 41, 75, 97, 11, 51, 23, 39, 51, 13, 1, 31, 93, 75, 11, 9, 53, 99, 35, 21, 97, 45, 9, 99, 53, 37, 29, 11, 47, 67, 19, 59, 21, 43, 13, 89, 13, 81, 51, 95, 61, 97, 95, 91, 61, 45, 51, 19, 81, 65, 77]\n"
     ]
    }
   ],
   "source": [
    "#1. Tampilkan Angka Ganjil dari ke 250 nilai tersebut\n",
    "ganjil = list(filter(lambda nilai : nilai %2 == 1, nilaiTugas))\n",
    "print('1.Tampilkan Angka Ganjil dari ke 250 nilai tersebut')\n",
    "print(ganjil)"
   ]
  },
  {
   "cell_type": "code",
   "execution_count": 30,
   "metadata": {},
   "outputs": [
    {
     "name": "stdout",
     "output_type": "stream",
     "text": [
      "2.Tampilkan berapa banyak yang mendapatkan nilai lebih dari 70\n",
      "69\n"
     ]
    }
   ],
   "source": [
    "#2. Tampilkan berapa banyak yang mendapatkan nilai lebih dari 70\n",
    "jumlah_nilai_lebih_besar_dari_70 = len(list(filter(lambda nilai : nilai > 70, nilaiTugas)))\n",
    "print('2.Tampilkan berapa banyak yang mendapatkan nilai lebih dari 70')\n",
    "print(jumlah_nilai_lebih_besar_dari_70)"
   ]
  },
  {
   "cell_type": "code",
   "execution_count": 31,
   "metadata": {},
   "outputs": [
    {
     "name": "stdout",
     "output_type": "stream",
     "text": [
      "3. Tampilkan standar deviasi dari sekumpulan nilai tersebut\n",
      "29.201761513682836\n"
     ]
    }
   ],
   "source": [
    "#3. Tampilkan standar deviasi dari sekumpulan nilai tersebut\n",
    "import statistics \n",
    "standar_deviasi = statistics.stdev(nilaiTugas) \n",
    "print('3. Tampilkan standar deviasi dari sekumpulan nilai tersebut')\n",
    "print(standar_deviasi)"
   ]
  },
  {
   "cell_type": "code",
   "execution_count": 32,
   "metadata": {},
   "outputs": [
    {
     "name": "stdout",
     "output_type": "stream",
     "text": [
      "4. Tampilkan nilai maksimum dan minimum\n",
      "minimum : 1\n",
      "maksimum : 99\n"
     ]
    }
   ],
   "source": [
    "#4. Tampilkan nilai maksimum dan minimum\n",
    "minimum = min(nilaiTugas)\n",
    "maksimum = max(nilaiTugas)\n",
    "print('4. Tampilkan nilai maksimum dan minimum')\n",
    "print(f'minimum : {minimum}')\n",
    "print(f'maksimum : {maksimum}')"
   ]
  },
  {
   "cell_type": "code",
   "execution_count": 33,
   "metadata": {},
   "outputs": [
    {
     "name": "stdout",
     "output_type": "stream",
     "text": [
      "5. Tampilkan modus dari sekumpulan nilai tersebut\n",
      "ModeResult(mode=array([13]), count=array([7]))\n"
     ]
    }
   ],
   "source": [
    "from scipy import stats\n",
    "\n",
    "modus = stats.mode(nilaiTugas)\n",
    "print('5. Tampilkan modus dari sekumpulan nilai tersebut')\n",
    "print(modus)"
   ]
  },
  {
   "cell_type": "code",
   "execution_count": null,
   "metadata": {},
   "outputs": [],
   "source": []
  },
  {
   "cell_type": "code",
   "execution_count": null,
   "metadata": {},
   "outputs": [],
   "source": []
  },
  {
   "cell_type": "code",
   "execution_count": null,
   "metadata": {},
   "outputs": [],
   "source": []
  }
 ],
 "metadata": {
  "kernelspec": {
   "display_name": "Python 3",
   "language": "python",
   "name": "python3"
  },
  "language_info": {
   "codemirror_mode": {
    "name": "ipython",
    "version": 3
   },
   "file_extension": ".py",
   "mimetype": "text/x-python",
   "name": "python",
   "nbconvert_exporter": "python",
   "pygments_lexer": "ipython3",
   "version": "3.7.0"
  }
 },
 "nbformat": 4,
 "nbformat_minor": 2
}
