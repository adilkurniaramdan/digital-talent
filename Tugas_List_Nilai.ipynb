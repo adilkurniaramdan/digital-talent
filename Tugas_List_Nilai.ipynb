{
 "cells": [
  {
   "cell_type": "code",
   "execution_count": 2,
   "metadata": {},
   "outputs": [],
   "source": [
    "import random\n",
    "\n",
    "# GENERATE RANDOM\n",
    "nilaiTugas = []\n",
    "for i in range(250):\n",
    "    nilaiTugas.append(random.randrange(1,100,1))"
   ]
  },
  {
   "cell_type": "code",
   "execution_count": 3,
   "metadata": {},
   "outputs": [
    {
     "name": "stdout",
     "output_type": "stream",
     "text": [
      "[97, 37, 5, 3, 33, 69, 15, 15, 71, 73, 43, 85, 95, 41, 37, 57, 11, 63, 45, 55, 99, 41, 45, 73, 73, 9, 33, 49, 5, 93, 1, 21, 45, 37, 15, 99, 73, 55, 85, 85, 71, 11, 13, 63, 53, 9, 29, 3, 67, 23, 35, 51, 99, 73, 55, 97, 59, 69, 11, 89, 7, 29, 51, 91, 77, 5, 37, 83, 45, 17, 75, 53, 43, 73, 41, 7, 27, 45, 55, 43, 81, 97, 45, 63, 97, 59, 91, 11, 71, 51, 5, 11, 27, 43, 71, 93, 75, 55, 79, 97, 1, 89, 77, 71, 1, 1, 91, 37, 71, 55, 63, 3, 61, 67, 55, 25, 91, 67, 11, 11, 93, 99, 91, 51, 9, 71, 99, 93, 33, 93, 17, 75, 43, 53, 35, 67]\n"
     ]
    }
   ],
   "source": [
    "#1. Tampilkan Angka Ganjil dari ke 250 nilai tersebut\n",
    "ganjil = list(filter(lambda nilai : nilai %2 == 1, nilaiTugas))\n",
    "print('1.Tampilkan Angka Ganjil dari ke 250 nilai tersebut')\n",
    "print(ganjil)"
   ]
  },
  {
   "cell_type": "code",
   "execution_count": 7,
   "metadata": {},
   "outputs": [
    {
     "name": "stdout",
     "output_type": "stream",
     "text": [
      "2.Tampilkan berapa banyak yang mendapatkan nilai lebih dari 70\n",
      "78\n"
     ]
    }
   ],
   "source": [
    "#2. Tampilkan berapa banyak yang mendapatkan nilai lebih dari 70\n",
    "jumlah_nilai_lebih_besar_dari_70 = len(list(filter(lambda nilai : nilai > 70, nilaiTugas)))\n",
    "print('2.Tampilkan berapa banyak yang mendapatkan nilai lebih dari 70')\n",
    "print(jumlah_nilai_lebih_besar_dari_70)"
   ]
  },
  {
   "cell_type": "code",
   "execution_count": 8,
   "metadata": {},
   "outputs": [
    {
     "name": "stdout",
     "output_type": "stream",
     "text": [
      "3. Tampilkan standar deviasi dari sekumpulan nilai tersebut\n",
      "28.496290183405762\n"
     ]
    }
   ],
   "source": [
    "#3. Tampilkan standar deviasi dari sekumpulan nilai tersebut\n",
    "import statistics \n",
    "standar_deviasi = statistics.stdev(nilaiTugas) \n",
    "print('3. Tampilkan standar deviasi dari sekumpulan nilai tersebut')\n",
    "print(standar_deviasi)"
   ]
  },
  {
   "cell_type": "code",
   "execution_count": 9,
   "metadata": {},
   "outputs": [
    {
     "name": "stdout",
     "output_type": "stream",
     "text": [
      "4. Tampilkan nilai maksimum dan minimum\n",
      "minimum : 1\n",
      "maksimum : 99\n"
     ]
    }
   ],
   "source": [
    "#4. Tampilkan nilai maksimum dan minimum\n",
    "minimum = min(nilaiTugas)\n",
    "maksimum = max(nilaiTugas)\n",
    "print('4. Tampilkan nilai maksimum dan minimum')\n",
    "print(f'minimum : {minimum}')\n",
    "print(f'maksimum : {maksimum}')"
   ]
  },
  {
   "cell_type": "code",
   "execution_count": 17,
   "metadata": {},
   "outputs": [
    {
     "name": "stdout",
     "output_type": "stream",
     "text": [
      "5. Tampilkan modus dari sekumpulan nilai tersebut\n",
      "ModeResult(mode=array([32]), count=array([10]))\n"
     ]
    }
   ],
   "source": [
    "from scipy import stats\n",
    "modus = stats.mode(nilaiTugas)\n",
    "print('5. Tampilkan modus dari sekumpulan nilai tersebut')\n",
    "print(modus)"
   ]
  },
  {
   "cell_type": "code",
   "execution_count": null,
   "metadata": {},
   "outputs": [],
   "source": []
  }
 ],
 "metadata": {
  "kernelspec": {
   "display_name": "Python 3",
   "language": "python",
   "name": "python3"
  },
  "language_info": {
   "codemirror_mode": {
    "name": "ipython",
    "version": 3
   },
   "file_extension": ".py",
   "mimetype": "text/x-python",
   "name": "python",
   "nbconvert_exporter": "python",
   "pygments_lexer": "ipython3",
   "version": "3.7.0"
  }
 },
 "nbformat": 4,
 "nbformat_minor": 2
}
