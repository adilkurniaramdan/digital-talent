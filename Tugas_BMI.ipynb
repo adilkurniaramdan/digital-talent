{
 "cells": [
  {
   "cell_type": "code",
   "execution_count": 1,
   "metadata": {},
   "outputs": [
    {
     "name": "stdout",
     "output_type": "stream",
     "text": [
      "Your BMI is = 21.9671201814059\n",
      "Your Category BMI is = Normal (healthy weight)\n"
     ]
    }
   ],
   "source": [
    "#Nama: Adil Kurnia Ramdan\n",
    "#Kelas: BigData -C\n",
    "\n",
    "height   = 168\n",
    "weight   = 62\n",
    "bmi      = weight / (height / 100) ** 2\n",
    "category = None\n",
    "\n",
    "if bmi < 15:\n",
    "    category = \"Very severely underweight\"\n",
    "elif bmi < 16:\n",
    "    category = \"Severely underweight\"\n",
    "elif bmi < 18.5:\n",
    "    category = \"Underweight\"\n",
    "elif bmi < 25:\n",
    "    category = \"Normal (healthy weight)\"\n",
    "elif bmi < 30:\n",
    "    category = \"Overweight\"\n",
    "elif bmi < 35:\n",
    "    category = \"Moderately obese\"\n",
    "elif bmi < 40:\n",
    "    category = \"Severely obese\"\n",
    "else:\n",
    "    category = \"Very severely obese\"\n",
    "\n",
    "print(f\"Your BMI is = {bmi}\")\n",
    "print(f\"Your Category BMI is = {category}\")"
   ]
  },
  {
   "cell_type": "code",
   "execution_count": null,
   "metadata": {},
   "outputs": [],
   "source": []
  }
 ],
 "metadata": {
  "kernelspec": {
   "display_name": "Python 3",
   "language": "python",
   "name": "python3"
  },
  "language_info": {
   "codemirror_mode": {
    "name": "ipython",
    "version": 3
   },
   "file_extension": ".py",
   "mimetype": "text/x-python",
   "name": "python",
   "nbconvert_exporter": "python",
   "pygments_lexer": "ipython3",
   "version": "3.7.0"
  }
 },
 "nbformat": 4,
 "nbformat_minor": 2
}
